{
  "nbformat": 4,
  "nbformat_minor": 0,
  "metadata": {
    "colab": {
      "provenance": []
    },
    "kernelspec": {
      "name": "python3",
      "display_name": "Python 3"
    },
    "language_info": {
      "name": "python"
    }
  },
  "cells": [
    {
      "cell_type": "code",
      "execution_count": 1,
      "metadata": {
        "id": "kzQsRZo5YY6J"
      },
      "outputs": [],
      "source": [
        "\n",
        "from nltk.corpus import stopwords\n",
        "from nltk.tokenize import word_tokenize,sent_tokenize"
      ]
    },
    {
      "cell_type": "code",
      "source": [
        "import nltk\n",
        "nltk.download('stopwords')\n",
        "nltk.download('punkt')"
      ],
      "metadata": {
        "colab": {
          "base_uri": "https://localhost:8080/"
        },
        "id": "0Yx9IYUxZVDg",
        "outputId": "d7c205dd-a4f4-40b3-b073-67412a44971a"
      },
      "execution_count": 2,
      "outputs": [
        {
          "output_type": "stream",
          "name": "stderr",
          "text": [
            "[nltk_data] Downloading package stopwords to /root/nltk_data...\n",
            "[nltk_data]   Unzipping corpora/stopwords.zip.\n",
            "[nltk_data] Downloading package punkt to /root/nltk_data...\n",
            "[nltk_data]   Unzipping tokenizers/punkt.zip.\n"
          ]
        },
        {
          "output_type": "execute_result",
          "data": {
            "text/plain": [
              "True"
            ]
          },
          "metadata": {},
          "execution_count": 2
        }
      ]
    },
    {
      "cell_type": "code",
      "source": [
        "text=\"\"\"Rohit Gurunath Sharma (born 30 April 1987) is an Indian international cricketer who currently captains the India national cricket team across all formats. He is a right-handed batsman. Considered one of the best batsmen of his generation and one of the greatest opening batters of all time,[4] Sharma is known for his timing, elegance, six-hitting abilities and leadership skills. Sharma holds several batting records which famously include most sixes in international cricket,[a] most double centuries in ODI cricket (3), most centuries at Cricket World Cups (7) and joint most hundreds in Twenty20 Internationals (5). Rohit Sharma is the first player to score 5 T20I centuries.[6] He plays for Mumbai Indians in IPL and for Mumbai in domestic cricket.\n",
        "\n",
        "Sharma formerly captained Mumbai Indians and the team has won 5 titles in 2013, 2015, 2017, 2019 and 2020 under his leadership, making him the most successful captain in IPL history, sharing this record with MS Dhoni (5 title wins in IPL). With India, Sharma was a member of the team that won the 2007 T20 World Cup, and the 2013 ICC Champions Trophy, where he played in the finals of both tournaments. Rohit is one of four players to have played in every edition of the ICC T20 World Cup, from the inaugural edition in 2007 to the latest one in 2022.\n",
        "\n",
        "Sharma currently holds the world record for the highest individual score (264) in a One Day International (ODI) match and is the only player to have scored three double-centuries in ODIs and also holds the record for scoring most hundreds (five) in a single Cricket World Cup, for which he won the ICC Men's ODI Cricketer of the Year award in 2019. Sharma has received two national honours, the Arjuna Award in 2015 and the prestigious Major Dhyan Chand Khel Ratna Award in 2020 by the Government of India. Under his captaincy, India won the 2018 Asia Cup and the 2023 Asia Cup, the seventh and eighth time the country won the title, both in ODI format as well as the 2018 Nidahas Trophy, their second overall and first in T20I format.\n",
        "\n",
        "Outside cricket, Sharma is an active supporter of animal welfare campaigns. He is the official Rhino Ambassador for WWF-India and is a member of People for the Ethical Treatment of Animals (PETA). He has worked with PETA in its campaign to raise awareness of the plight of homeless cats and dogs in India. \"\"\"\n",
        ""
      ],
      "metadata": {
        "id": "KVNh5uNAZVe5"
      },
      "execution_count": 3,
      "outputs": []
    },
    {
      "cell_type": "code",
      "source": [
        "stopwords=set(stopwords.words(\"english\"))\n",
        "print(stopwords)"
      ],
      "metadata": {
        "colab": {
          "base_uri": "https://localhost:8080/"
        },
        "id": "ZrArLsZeZVkk",
        "outputId": "fdfbd9f0-6af5-4ec2-f9cb-a957b0b16ade"
      },
      "execution_count": 4,
      "outputs": [
        {
          "output_type": "stream",
          "name": "stdout",
          "text": [
            "{'having', 'ours', 'because', 'ain', 'of', 'before', 'itself', 'wasn', \"won't\", 's', 'didn', \"it's\", 'been', 'had', 'yours', \"you'd\", 'from', 'very', 'each', 'own', 'over', 'yourself', 'should', 'once', 'we', 'her', 'do', 'myself', 'you', \"hasn't\", 'same', 'does', 'is', 'if', \"you've\", \"needn't\", 'will', \"aren't\", \"you're\", 'can', 'she', 'them', 'couldn', 'in', 'which', 'haven', 'by', 't', 'that', 'wouldn', 'all', 'll', 'these', 'mightn', 'was', 'or', 'where', 'their', 'me', 'this', 'weren', 'my', 'too', 'mustn', 'about', 'be', 'below', 'doing', 'hadn', 'shan', 'doesn', \"weren't\", 'ma', 'his', 'against', \"wouldn't\", 'as', \"mustn't\", 'hasn', 'into', 'why', 'won', 'but', 'under', 'its', 'between', 'has', 'more', 'no', 'for', 'out', 'o', 'until', 'through', 'what', 'above', 'those', 'after', \"don't\", 'were', 'the', 'both', 'again', 'during', 'any', \"doesn't\", 'ourselves', \"that'll\", 'while', 'aren', 'i', 'our', 'just', 'there', 'nor', 'only', 'he', 'yourselves', 'shouldn', 'an', 'm', 'other', 'at', 'to', 'than', 'y', 'isn', 'when', 'am', 'they', \"isn't\", 'how', 're', 'your', 'most', \"should've\", 'whom', 'have', 'and', 'themselves', \"haven't\", \"shan't\", \"wasn't\", 'himself', \"she's\", 'who', 'theirs', 'such', \"couldn't\", 'are', 'on', 've', 'him', 'it', 'don', \"hadn't\", 'then', \"you'll\", 'not', 'here', 'herself', 'with', \"didn't\", \"mightn't\", 'needn', 'up', 'some', 'so', 'hers', 'being', 'did', 'a', 'down', 'off', 'few', 'now', \"shouldn't\", 'd', 'further'}\n"
          ]
        }
      ]
    },
    {
      "cell_type": "code",
      "source": [
        "words=word_tokenize(text)\n",
        "print(words)"
      ],
      "metadata": {
        "colab": {
          "base_uri": "https://localhost:8080/"
        },
        "id": "0hBBaSPZZVnI",
        "outputId": "9f024fd5-34d7-4545-e801-59ed7818a8ef"
      },
      "execution_count": 5,
      "outputs": [
        {
          "output_type": "stream",
          "name": "stdout",
          "text": [
            "['Rohit', 'Gurunath', 'Sharma', '(', 'born', '30', 'April', '1987', ')', 'is', 'an', 'Indian', 'international', 'cricketer', 'who', 'currently', 'captains', 'the', 'India', 'national', 'cricket', 'team', 'across', 'all', 'formats', '.', 'He', 'is', 'a', 'right-handed', 'batsman', '.', 'Considered', 'one', 'of', 'the', 'best', 'batsmen', 'of', 'his', 'generation', 'and', 'one', 'of', 'the', 'greatest', 'opening', 'batters', 'of', 'all', 'time', ',', '[', '4', ']', 'Sharma', 'is', 'known', 'for', 'his', 'timing', ',', 'elegance', ',', 'six-hitting', 'abilities', 'and', 'leadership', 'skills', '.', 'Sharma', 'holds', 'several', 'batting', 'records', 'which', 'famously', 'include', 'most', 'sixes', 'in', 'international', 'cricket', ',', '[', 'a', ']', 'most', 'double', 'centuries', 'in', 'ODI', 'cricket', '(', '3', ')', ',', 'most', 'centuries', 'at', 'Cricket', 'World', 'Cups', '(', '7', ')', 'and', 'joint', 'most', 'hundreds', 'in', 'Twenty20', 'Internationals', '(', '5', ')', '.', 'Rohit', 'Sharma', 'is', 'the', 'first', 'player', 'to', 'score', '5', 'T20I', 'centuries', '.', '[', '6', ']', 'He', 'plays', 'for', 'Mumbai', 'Indians', 'in', 'IPL', 'and', 'for', 'Mumbai', 'in', 'domestic', 'cricket', '.', 'Sharma', 'formerly', 'captained', 'Mumbai', 'Indians', 'and', 'the', 'team', 'has', 'won', '5', 'titles', 'in', '2013', ',', '2015', ',', '2017', ',', '2019', 'and', '2020', 'under', 'his', 'leadership', ',', 'making', 'him', 'the', 'most', 'successful', 'captain', 'in', 'IPL', 'history', ',', 'sharing', 'this', 'record', 'with', 'MS', 'Dhoni', '(', '5', 'title', 'wins', 'in', 'IPL', ')', '.', 'With', 'India', ',', 'Sharma', 'was', 'a', 'member', 'of', 'the', 'team', 'that', 'won', 'the', '2007', 'T20', 'World', 'Cup', ',', 'and', 'the', '2013', 'ICC', 'Champions', 'Trophy', ',', 'where', 'he', 'played', 'in', 'the', 'finals', 'of', 'both', 'tournaments', '.', 'Rohit', 'is', 'one', 'of', 'four', 'players', 'to', 'have', 'played', 'in', 'every', 'edition', 'of', 'the', 'ICC', 'T20', 'World', 'Cup', ',', 'from', 'the', 'inaugural', 'edition', 'in', '2007', 'to', 'the', 'latest', 'one', 'in', '2022', '.', 'Sharma', 'currently', 'holds', 'the', 'world', 'record', 'for', 'the', 'highest', 'individual', 'score', '(', '264', ')', 'in', 'a', 'One', 'Day', 'International', '(', 'ODI', ')', 'match', 'and', 'is', 'the', 'only', 'player', 'to', 'have', 'scored', 'three', 'double-centuries', 'in', 'ODIs', 'and', 'also', 'holds', 'the', 'record', 'for', 'scoring', 'most', 'hundreds', '(', 'five', ')', 'in', 'a', 'single', 'Cricket', 'World', 'Cup', ',', 'for', 'which', 'he', 'won', 'the', 'ICC', 'Men', \"'s\", 'ODI', 'Cricketer', 'of', 'the', 'Year', 'award', 'in', '2019', '.', 'Sharma', 'has', 'received', 'two', 'national', 'honours', ',', 'the', 'Arjuna', 'Award', 'in', '2015', 'and', 'the', 'prestigious', 'Major', 'Dhyan', 'Chand', 'Khel', 'Ratna', 'Award', 'in', '2020', 'by', 'the', 'Government', 'of', 'India', '.', 'Under', 'his', 'captaincy', ',', 'India', 'won', 'the', '2018', 'Asia', 'Cup', 'and', 'the', '2023', 'Asia', 'Cup', ',', 'the', 'seventh', 'and', 'eighth', 'time', 'the', 'country', 'won', 'the', 'title', ',', 'both', 'in', 'ODI', 'format', 'as', 'well', 'as', 'the', '2018', 'Nidahas', 'Trophy', ',', 'their', 'second', 'overall', 'and', 'first', 'in', 'T20I', 'format', '.', 'Outside', 'cricket', ',', 'Sharma', 'is', 'an', 'active', 'supporter', 'of', 'animal', 'welfare', 'campaigns', '.', 'He', 'is', 'the', 'official', 'Rhino', 'Ambassador', 'for', 'WWF-India', 'and', 'is', 'a', 'member', 'of', 'People', 'for', 'the', 'Ethical', 'Treatment', 'of', 'Animals', '(', 'PETA', ')', '.', 'He', 'has', 'worked', 'with', 'PETA', 'in', 'its', 'campaign', 'to', 'raise', 'awareness', 'of', 'the', 'plight', 'of', 'homeless', 'cats', 'and', 'dogs', 'in', 'India', '.']\n"
          ]
        }
      ]
    },
    {
      "cell_type": "code",
      "source": [
        "freqtable=dict()\n",
        "for word in words:\n",
        "  word=word.lower()\n",
        "  if word in stopwords:\n",
        "    continue\n",
        "  if word in freqtable:\n",
        "    freqtable[word]+=1\n",
        "  else:\n",
        "    freqtable[word]=1\n",
        "print(freqtable)"
      ],
      "metadata": {
        "colab": {
          "base_uri": "https://localhost:8080/"
        },
        "id": "KZUQ3Or4ZVpk",
        "outputId": "a47ab0da-2bd7-4358-a851-c7ac81fef2a1"
      },
      "execution_count": 6,
      "outputs": [
        {
          "output_type": "stream",
          "name": "stdout",
          "text": [
            "{'rohit': 3, 'gurunath': 1, 'sharma': 9, '(': 9, 'born': 1, '30': 1, 'april': 1, '1987': 1, ')': 9, 'indian': 1, 'international': 3, 'cricketer': 2, 'currently': 2, 'captains': 1, 'india': 5, 'national': 2, 'cricket': 7, 'team': 3, 'across': 1, 'formats': 1, '.': 15, 'right-handed': 1, 'batsman': 1, 'considered': 1, 'one': 5, 'best': 1, 'batsmen': 1, 'generation': 1, 'greatest': 1, 'opening': 1, 'batters': 1, 'time': 2, ',': 21, '[': 3, '4': 1, ']': 3, 'known': 1, 'timing': 1, 'elegance': 1, 'six-hitting': 1, 'abilities': 1, 'leadership': 2, 'skills': 1, 'holds': 3, 'several': 1, 'batting': 1, 'records': 1, 'famously': 1, 'include': 1, 'sixes': 1, 'double': 1, 'centuries': 3, 'odi': 4, '3': 1, 'world': 5, 'cups': 1, '7': 1, 'joint': 1, 'hundreds': 2, 'twenty20': 1, 'internationals': 1, '5': 4, 'first': 2, 'player': 2, 'score': 2, 't20i': 2, '6': 1, 'plays': 1, 'mumbai': 3, 'indians': 2, 'ipl': 3, 'domestic': 1, 'formerly': 1, 'captained': 1, 'titles': 1, '2013': 2, '2015': 2, '2017': 1, '2019': 2, '2020': 2, 'making': 1, 'successful': 1, 'captain': 1, 'history': 1, 'sharing': 1, 'record': 3, 'ms': 1, 'dhoni': 1, 'title': 2, 'wins': 1, 'member': 2, '2007': 2, 't20': 2, 'cup': 5, 'icc': 3, 'champions': 1, 'trophy': 2, 'played': 2, 'finals': 1, 'tournaments': 1, 'four': 1, 'players': 1, 'every': 1, 'edition': 2, 'inaugural': 1, 'latest': 1, '2022': 1, 'highest': 1, 'individual': 1, '264': 1, 'day': 1, 'match': 1, 'scored': 1, 'three': 1, 'double-centuries': 1, 'odis': 1, 'also': 1, 'scoring': 1, 'five': 1, 'single': 1, 'men': 1, \"'s\": 1, 'year': 1, 'award': 3, 'received': 1, 'two': 1, 'honours': 1, 'arjuna': 1, 'prestigious': 1, 'major': 1, 'dhyan': 1, 'chand': 1, 'khel': 1, 'ratna': 1, 'government': 1, 'captaincy': 1, '2018': 2, 'asia': 2, '2023': 1, 'seventh': 1, 'eighth': 1, 'country': 1, 'format': 2, 'well': 1, 'nidahas': 1, 'second': 1, 'overall': 1, 'outside': 1, 'active': 1, 'supporter': 1, 'animal': 1, 'welfare': 1, 'campaigns': 1, 'official': 1, 'rhino': 1, 'ambassador': 1, 'wwf-india': 1, 'people': 1, 'ethical': 1, 'treatment': 1, 'animals': 1, 'peta': 2, 'worked': 1, 'campaign': 1, 'raise': 1, 'awareness': 1, 'plight': 1, 'homeless': 1, 'cats': 1, 'dogs': 1}\n"
          ]
        }
      ]
    },
    {
      "cell_type": "code",
      "source": [
        "sentences=sent_tokenize(text)\n",
        "print(sentences)"
      ],
      "metadata": {
        "colab": {
          "base_uri": "https://localhost:8080/"
        },
        "id": "nGxDxp_nZVsb",
        "outputId": "0bf17350-1850-44a3-9b29-78ca18b6a65f"
      },
      "execution_count": 7,
      "outputs": [
        {
          "output_type": "stream",
          "name": "stdout",
          "text": [
            "['Rohit Gurunath Sharma (born 30 April 1987) is an Indian international cricketer who currently captains the India national cricket team across all formats.', 'He is a right-handed batsman.', 'Considered one of the best batsmen of his generation and one of the greatest opening batters of all time,[4] Sharma is known for his timing, elegance, six-hitting abilities and leadership skills.', 'Sharma holds several batting records which famously include most sixes in international cricket,[a] most double centuries in ODI cricket (3), most centuries at Cricket World Cups (7) and joint most hundreds in Twenty20 Internationals (5).', 'Rohit Sharma is the first player to score 5 T20I centuries.', '[6] He plays for Mumbai Indians in IPL and for Mumbai in domestic cricket.', 'Sharma formerly captained Mumbai Indians and the team has won 5 titles in 2013, 2015, 2017, 2019 and 2020 under his leadership, making him the most successful captain in IPL history, sharing this record with MS Dhoni (5 title wins in IPL).', 'With India, Sharma was a member of the team that won the 2007 T20 World Cup, and the 2013 ICC Champions Trophy, where he played in the finals of both tournaments.', 'Rohit is one of four players to have played in every edition of the ICC T20 World Cup, from the inaugural edition in 2007 to the latest one in 2022.', \"Sharma currently holds the world record for the highest individual score (264) in a One Day International (ODI) match and is the only player to have scored three double-centuries in ODIs and also holds the record for scoring most hundreds (five) in a single Cricket World Cup, for which he won the ICC Men's ODI Cricketer of the Year award in 2019.\", 'Sharma has received two national honours, the Arjuna Award in 2015 and the prestigious Major Dhyan Chand Khel Ratna Award in 2020 by the Government of India.', 'Under his captaincy, India won the 2018 Asia Cup and the 2023 Asia Cup, the seventh and eighth time the country won the title, both in ODI format as well as the 2018 Nidahas Trophy, their second overall and first in T20I format.', 'Outside cricket, Sharma is an active supporter of animal welfare campaigns.', 'He is the official Rhino Ambassador for WWF-India and is a member of People for the Ethical Treatment of Animals (PETA).', 'He has worked with PETA in its campaign to raise awareness of the plight of homeless cats and dogs in India.']\n"
          ]
        }
      ]
    },
    {
      "cell_type": "code",
      "source": [
        "def getsentencevalue():\n",
        "  sentencevalue=dict()\n",
        "  for sentence in sentences:\n",
        "    for word,freq in freqtable.items():\n",
        "      if word in sentence.lower():\n",
        "        if sentence in sentencevalue:\n",
        "          sentencevalue[sentence]+=freq\n",
        "        else:\n",
        "          sentencevalue[sentence]=freq\n",
        "  return sentencevalue\n",
        "  print(sentencevalue)\n",
        "sentencevalue=getsentencevalue()\n",
        "print(sentencevalue)"
      ],
      "metadata": {
        "colab": {
          "base_uri": "https://localhost:8080/"
        },
        "id": "pLfxC9ozZVvA",
        "outputId": "f2cd48b9-6193-4df8-ef79-308c15e94930"
      },
      "execution_count": 8,
      "outputs": [
        {
          "output_type": "stream",
          "name": "stdout",
          "text": [
            "{'Rohit Gurunath Sharma (born 30 April 1987) is an Indian international cricketer who currently captains the India national cricket team across all formats.': 83, 'He is a right-handed batsman.': 17, 'Considered one of the best batsmen of his generation and one of the greatest opening batters of all time,[4] Sharma is known for his timing, elegance, six-hitting abilities and leadership skills.': 75, 'Sharma holds several batting records which famously include most sixes in international cricket,[a] most double centuries in ODI cricket (3), most centuries at Cricket World Cups (7) and joint most hundreds in Twenty20 Internationals (5).': 123, 'Rohit Sharma is the first player to score 5 T20I centuries.': 44, '[6] He plays for Mumbai Indians in IPL and for Mumbai in domestic cricket.': 45, 'Sharma formerly captained Mumbai Indians and the team has won 5 titles in 2013, 2015, 2017, 2019 and 2020 under his leadership, making him the most successful captain in IPL history, sharing this record with MS Dhoni (5 title wins in IPL).': 113, 'With India, Sharma was a member of the team that won the 2007 T20 World Cup, and the 2013 ICC Champions Trophy, where he played in the finals of both tournaments.': 84, 'Rohit is one of four players to have played in every edition of the ICC T20 World Cup, from the inaugural edition in 2007 to the latest one in 2022.': 74, \"Sharma currently holds the world record for the highest individual score (264) in a One Day International (ODI) match and is the only player to have scored three double-centuries in ODIs and also holds the record for scoring most hundreds (five) in a single Cricket World Cup, for which he won the ICC Men's ODI Cricketer of the Year award in 2019.\": 140, 'Sharma has received two national honours, the Arjuna Award in 2015 and the prestigious Major Dhyan Chand Khel Ratna Award in 2020 by the Government of India.': 75, 'Under his captaincy, India won the 2018 Asia Cup and the 2023 Asia Cup, the seventh and eighth time the country won the title, both in ODI format as well as the 2018 Nidahas Trophy, their second overall and first in T20I format.': 79, 'Outside cricket, Sharma is an active supporter of animal welfare campaigns.': 59, 'He is the official Rhino Ambassador for WWF-India and is a member of People for the Ethical Treatment of Animals (PETA).': 52, 'He has worked with PETA in its campaign to raise awareness of the plight of homeless cats and dogs in India.': 30}\n"
          ]
        }
      ]
    },
    {
      "cell_type": "code",
      "source": [
        "def getvalue():\n",
        "  sumvalue=0\n",
        "  for sentence in sentencevalue:\n",
        "    sumvalue+=sentencevalue[sentence]\n",
        "  average=int(sumvalue/len(sentencevalue))\n",
        "  return average\n",
        "average=getvalue()\n",
        "print(average)"
      ],
      "metadata": {
        "colab": {
          "base_uri": "https://localhost:8080/"
        },
        "id": "oD8KzuQ1ZVxQ",
        "outputId": "de5d6db6-ba4b-443c-e98c-6fc8e52ae456"
      },
      "execution_count": 9,
      "outputs": [
        {
          "output_type": "stream",
          "name": "stdout",
          "text": [
            "72\n"
          ]
        }
      ]
    },
    {
      "cell_type": "code",
      "source": [
        "summary=''\n",
        "for sentence in sentences:\n",
        "  if(sentence in sentencevalue and sentencevalue[sentence]>130):\n",
        "    summary+=' '+sentence\n",
        "print(summary)"
      ],
      "metadata": {
        "colab": {
          "base_uri": "https://localhost:8080/"
        },
        "id": "-PYUFo6NZV0f",
        "outputId": "715ac7ef-ae3d-48c2-84de-0c65e4131e60"
      },
      "execution_count": 10,
      "outputs": [
        {
          "output_type": "stream",
          "name": "stdout",
          "text": [
            " Sharma currently holds the world record for the highest individual score (264) in a One Day International (ODI) match and is the only player to have scored three double-centuries in ODIs and also holds the record for scoring most hundreds (five) in a single Cricket World Cup, for which he won the ICC Men's ODI Cricketer of the Year award in 2019.\n"
          ]
        }
      ]
    }
  ]
}